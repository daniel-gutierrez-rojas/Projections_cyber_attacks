{
 "cells": [
  {
   "cell_type": "markdown",
   "metadata": {},
   "source": [
    "### Ejemplo de una funcion cualquiera"
   ]
  },
  {
   "cell_type": "code",
   "execution_count": 1,
   "metadata": {},
   "outputs": [
    {
     "name": "stdout",
     "output_type": "stream",
     "text": [
      "Optimal solution: [0.22827879860395464, -1.625536324458821]\n",
      "Objective function value: -6.551133332809342\n",
      "Evolutionary process of the objective function value:\n"
     ]
    },
    {
     "data": {
      "text/plain": [
       "<__main__.PSO at 0x23af306b780>"
      ]
     },
     "execution_count": 1,
     "metadata": {},
     "output_type": "execute_result"
    }
   ],
   "source": [
    "import random\n",
    "import math\n",
    "import matplotlib.pyplot as plt\n",
    "#------------------------------------------------------------------------------\n",
    "# TO CUSTOMIZE THIS PSO CODE TO SOLVE UNCONSTRAINED OPTIMIZATION PROBLEMS, CHANGE THE PARAMETERS IN THIS SECTION ONLY:\n",
    "# THE FOLLOWING PARAMETERS MUST BE CHANGED.\n",
    "def objective_function(x):\n",
    "    y = 3*(1-x[0])**2*math.exp(-x[0]**2 - (x[1]+1)**2) - 10*(x[0]/5 - x[0]**3 - x[1]**5)*math.exp(-x[0]**2 - x[1]**2) -1/3*math.exp(-(x[0]+1)**2 - x[1]**2);\n",
    "    return y\n",
    " \n",
    "bounds=[(-3,3),(-3,3)]   # upper and lower bounds of variables\n",
    "nv = 2                   # number of variables\n",
    "mm = -1                   # if minimization problem, mm = -1; if maximization problem, mm = 1\n",
    " \n",
    "# THE FOLLOWING PARAMETERS ARE OPTIMAL.\n",
    "particle_size=100         # number of particles\n",
    "iterations=200           # max number of iterations\n",
    "w=0.85                    # inertia constant\n",
    "c1=1                    # cognative constant\n",
    "c2=2                     # social constant\n",
    "# END OF THE CUSTOMIZATION SECTION\n",
    "#------------------------------------------------------------------------------    \n",
    "class Particle:\n",
    "    def __init__(self,bounds):\n",
    "        self.particle_position=[]                     # particle position\n",
    "        self.particle_velocity=[]                     # particle velocity\n",
    "        self.local_best_particle_position=[]          # best position of the particle\n",
    "        self.fitness_local_best_particle_position= initial_fitness  # initial objective function value of the best particle position\n",
    "        self.fitness_particle_position=initial_fitness             # objective function value of the particle position\n",
    " \n",
    "        for i in range(nv):\n",
    "            self.particle_position.append(random.uniform(bounds[i][0],bounds[i][1])) # generate random initial position\n",
    "            self.particle_velocity.append(random.uniform(-1,1)) # generate random initial velocity\n",
    " \n",
    "    def evaluate(self,objective_function):\n",
    "        self.fitness_particle_position=objective_function(self.particle_position)\n",
    "        if mm == -1:\n",
    "            if self.fitness_particle_position < self.fitness_local_best_particle_position:\n",
    "                self.local_best_particle_position=self.particle_position                  # update the local best\n",
    "                self.fitness_local_best_particle_position=self.fitness_particle_position  # update the fitness of the local best\n",
    "        if mm == 1:\n",
    "            if self.fitness_particle_position > self.fitness_local_best_particle_position:\n",
    "                self.local_best_particle_position=self.particle_position                  # update the local best\n",
    "                self.fitness_local_best_particle_position=self.fitness_particle_position  # update the fitness of the local best\n",
    " \n",
    "    def update_velocity(self,global_best_particle_position):\n",
    "        for i in range(nv):\n",
    "            r1=random.random()\n",
    "            r2=random.random()\n",
    " \n",
    "            cognitive_velocity = c1*r1*(self.local_best_particle_position[i] - self.particle_position[i])\n",
    "            social_velocity = c2*r2*(global_best_particle_position[i] - self.particle_position[i])\n",
    "            self.particle_velocity[i] = w*self.particle_velocity[i]+ cognitive_velocity + social_velocity\n",
    " \n",
    "    def update_position(self,bounds):\n",
    "        for i in range(nv):\n",
    "            self.particle_position[i]=self.particle_position[i]+self.particle_velocity[i]\n",
    " \n",
    "            # check and repair to satisfy the upper bounds\n",
    "            if self.particle_position[i]>bounds[i][1]:\n",
    "                self.particle_position[i]=bounds[i][1]\n",
    "            # check and repair to satisfy the lower bounds\n",
    "            if self.particle_position[i] < bounds[i][0]:\n",
    "                self.particle_position[i]=bounds[i][0]\n",
    " \n",
    "class PSO():\n",
    "    def __init__(self,objective_function,bounds,particle_size,iterations):\n",
    " \n",
    "        fitness_global_best_particle_position=initial_fitness\n",
    "        global_best_particle_position=[]\n",
    " \n",
    "        swarm_particle=[]\n",
    "        for i in range(particle_size):\n",
    "            swarm_particle.append(Particle(bounds))\n",
    "        A=[]\n",
    " \n",
    "        for i in range(iterations):\n",
    "            for j in range(particle_size):\n",
    "                swarm_particle[j].evaluate(objective_function)\n",
    " \n",
    "                if mm ==-1:\n",
    "                    if swarm_particle[j].fitness_particle_position < fitness_global_best_particle_position:\n",
    "                        global_best_particle_position = list(swarm_particle[j].particle_position)\n",
    "                        fitness_global_best_particle_position = float(swarm_particle[j].fitness_particle_position)\n",
    "                if mm ==1:\n",
    "                    if swarm_particle[j].fitness_particle_position > fitness_global_best_particle_position:\n",
    "                        global_best_particle_position = list(swarm_particle[j].particle_position)\n",
    "                        fitness_global_best_particle_position = float(swarm_particle[j].fitness_particle_position)\n",
    "            for j in range(particle_size):\n",
    "                swarm_particle[j].update_velocity(global_best_particle_position)\n",
    "                swarm_particle[j].update_position(bounds)\n",
    " \n",
    "            A.append(fitness_global_best_particle_position) # record the best fitness\n",
    " \n",
    "        print('Optimal solution:', global_best_particle_position)\n",
    "        print('Objective function value:', fitness_global_best_particle_position)\n",
    "        print('Evolutionary process of the objective function value:')\n",
    "        plt.plot(A)\n",
    "#------------------------------------------------------------------------------\n",
    "if mm == -1:\n",
    "    initial_fitness = float(\"inf\") # for minimization problem\n",
    "if mm == 1:\n",
    "    initial_fitness = -float(\"inf\") # for maximization problem\n",
    "#------------------------------------------------------------------------------   \n",
    "# Main PSO         \n",
    "PSO(objective_function,bounds,particle_size,iterations)"
   ]
  },
  {
   "cell_type": "markdown",
   "metadata": {},
   "source": [
    "### Modifying the objective function above"
   ]
  },
  {
   "cell_type": "code",
   "execution_count": 2,
   "metadata": {},
   "outputs": [
    {
     "name": "stdout",
     "output_type": "stream",
     "text": [
      "Optimal solution: [-3, -3, 0.2307319596641133]\n",
      "Objective function value: -40.5\n",
      "Evolutionary process of the objective function value:\n"
     ]
    },
    {
     "data": {
      "text/plain": [
       "<__main__.PSO at 0x1ab5995a0b8>"
      ]
     },
     "execution_count": 2,
     "metadata": {},
     "output_type": "execute_result"
    },
    {
     "data": {
      "image/png": "[encoded data removed]",
      "text/plain": [
       "<Figure size 432x288 with 1 Axes>"
      ]
     },
     "metadata": {
      "needs_background": "light"
     },
     "output_type": "display_data"
    }
   ],
   "source": [
    "import random\n",
    "import math\n",
    "import matplotlib.pyplot as plt\n",
    "#------------------------------------------------------------------------------\n",
    "# TO CUSTOMIZE THIS PSO CODE TO SOLVE UNCONSTRAINED OPTIMIZATION PROBLEMS, CHANGE THE PARAMETERS IN THIS SECTION ONLY:\n",
    "# THE FOLLOWING PARAMETERS MUST BE CHANGED.\n",
    "def objective_function(x):\n",
    "    y =  13.5*x[0];\n",
    "    return y\n",
    " \n",
    "bounds=[(-3,3),(-3,3),(-3,3)]   # upper and lower bounds of variables\n",
    "nv = 3                   # number of variables\n",
    "mm = -1                   # if minimization problem, mm = -1; if maximization problem, mm = 1\n",
    " \n",
    "# THE FOLLOWING PARAMETERS ARE OPTIMAL.\n",
    "particle_size=100         # number of particles\n",
    "iterations=200           # max number of iterations\n",
    "w=0.85                    # inertia constant\n",
    "c1=1                    # cognative constant\n",
    "c2=2                     # social constant\n",
    "# END OF THE CUSTOMIZATION SECTION\n",
    "#------------------------------------------------------------------------------    \n",
    "class Particle:\n",
    "    def __init__(self,bounds):\n",
    "        self.particle_position=[]                     # particle position\n",
    "        self.particle_velocity=[]                     # particle velocity\n",
    "        self.local_best_particle_position=[]          # best position of the particle\n",
    "        self.fitness_local_best_particle_position= initial_fitness  # initial objective function value of the best particle position\n",
    "        self.fitness_particle_position=initial_fitness             # objective function value of the particle position\n",
    " \n",
    "        for i in range(nv):\n",
    "            self.particle_position.append(random.uniform(bounds[i][0],bounds[i][1])) # generate random initial position\n",
    "            self.particle_velocity.append(random.uniform(-1,1)) # generate random initial velocity\n",
    " \n",
    "    def evaluate(self,objective_function):\n",
    "        self.fitness_particle_position=objective_function(self.particle_position)\n",
    "        if mm == -1:\n",
    "            if self.fitness_particle_position < self.fitness_local_best_particle_position:\n",
    "                self.local_best_particle_position=self.particle_position                  # update the local best\n",
    "                self.fitness_local_best_particle_position=self.fitness_particle_position  # update the fitness of the local best\n",
    "        if mm == 1:\n",
    "            if self.fitness_particle_position > self.fitness_local_best_particle_position:\n",
    "                self.local_best_particle_position=self.particle_position                  # update the local best\n",
    "                self.fitness_local_best_particle_position=self.fitness_particle_position  # update the fitness of the local best\n",
    " \n",
    "    def update_velocity(self,global_best_particle_position):\n",
    "        for i in range(nv):\n",
    "            r1=random.random()\n",
    "            r2=random.random()\n",
    " \n",
    "            cognitive_velocity = c1*r1*(self.local_best_particle_position[i] - self.particle_position[i])\n",
    "            social_velocity = c2*r2*(global_best_particle_position[i] - self.particle_position[i])\n",
    "            self.particle_velocity[i] = w*self.particle_velocity[i]+ cognitive_velocity + social_velocity\n",
    " \n",
    "    def update_position(self,bounds):\n",
    "        for i in range(nv):\n",
    "            self.particle_position[i]=self.particle_position[i]+self.particle_velocity[i]\n",
    " \n",
    "            # check and repair to satisfy the upper bounds\n",
    "            if self.particle_position[i]>bounds[i][1]:\n",
    "                self.particle_position[i]=bounds[i][1]\n",
    "            # check and repair to satisfy the lower bounds\n",
    "            if self.particle_position[i] < bounds[i][0]:\n",
    "                self.particle_position[i]=bounds[i][0]\n",
    " \n",
    "class PSO():\n",
    "    def __init__(self,objective_function,bounds,particle_size,iterations):\n",
    " \n",
    "        fitness_global_best_particle_position=initial_fitness\n",
    "        global_best_particle_position=[]\n",
    " \n",
    "        swarm_particle=[]\n",
    "        for i in range(particle_size):\n",
    "            swarm_particle.append(Particle(bounds))\n",
    "        A=[]\n",
    " \n",
    "        for i in range(iterations):\n",
    "            for j in range(particle_size):\n",
    "                swarm_particle[j].evaluate(objective_function)\n",
    " \n",
    "                if mm ==-1:\n",
    "                    if swarm_particle[j].fitness_particle_position < fitness_global_best_particle_position:\n",
    "                        global_best_particle_position = list(swarm_particle[j].particle_position)\n",
    "                        fitness_global_best_particle_position = float(swarm_particle[j].fitness_particle_position)\n",
    "                if mm ==1:\n",
    "                    if swarm_particle[j].fitness_particle_position > fitness_global_best_particle_position:\n",
    "                        global_best_particle_position = list(swarm_particle[j].particle_position)\n",
    "                        fitness_global_best_particle_position = float(swarm_particle[j].fitness_particle_position)\n",
    "            for j in range(particle_size):\n",
    "                swarm_particle[j].update_velocity(global_best_particle_position)\n",
    "                swarm_particle[j].update_position(bounds)\n",
    " \n",
    "            A.append(fitness_global_best_particle_position) # record the best fitness\n",
    " \n",
    "        print('Optimal solution:', global_best_particle_position)\n",
    "        print('Objective function value:', fitness_global_best_particle_position)\n",
    "        print('Evolutionary process of the objective function value:')\n",
    "        plt.plot(A)\n",
    "#------------------------------------------------------------------------------\n",
    "if mm == -1:\n",
    "    initial_fitness = float(\"inf\") # for minimization problem\n",
    "if mm == 1:\n",
    "    initial_fitness = -float(\"inf\") # for maximization problem\n",
    "#------------------------------------------------------------------------------   \n",
    "# Main PSO         \n",
    "PSO(objective_function,bounds,particle_size,iterations)"
   ]
  },
  {
   "cell_type": "code",
   "execution_count": null,
   "metadata": {},
   "outputs": [],
   "source": []
  },
  {
   "cell_type": "code",
   "execution_count": 8,
   "metadata": {},
   "outputs": [],
   "source": [
    "import pandapower.networks as pn\n",
    "import pandapower\n",
    "import pandapower.topology\n",
    "import pandapower.plotting\n",
    "import pandapower.converter\n",
    "import pandapower.estimation"
   ]
  },
  {
   "cell_type": "code",
   "execution_count": 9,
   "metadata": {},
   "outputs": [
    {
     "name": "stdout",
     "output_type": "stream",
     "text": [
      "============================= test session starts =============================\n",
      "platform win32 -- Python 3.7.3, pytest-4.3.1, py-1.8.0, pluggy-0.9.0\n",
      "rootdir: C:\\, inifile:\n",
      "plugins: remotedata-0.3.1, openfiles-0.3.2, doctestplus-0.3.0, arraydiff-0.3\n",
      "No module named 'julia'\n",
      "No module named 'julia'\n",
      "No module named 'julia'\n",
      "collected 550 items\n",
      "\n",
      "..\\..\\..\\..\\..\\..\\..\\ProgramData\\Anaconda3\\lib\\site-packages\\pandapower\\test\\api\\test_auxiliary.py ........\n",
      "..\\..\\..\\..\\..\\..\\..\\ProgramData\\Anaconda3\\lib\\site-packages\\pandapower\\test\\api\\test_convert_format.py .....................\n",
      "..\\..\\..\\..\\..\\..\\..\\ProgramData\\Anaconda3\\lib\\site-packages\\pandapower\\test\\api\\test_create.py .....................\n",
      "..\\..\\..\\..\\..\\..\\..\\ProgramData\\Anaconda3\\lib\\site-packages\\pandapower\\test\\api\\test_diagnostic.py ......................\n",
      "..\\..\\..\\..\\..\\..\\..\\ProgramData\\Anaconda3\\lib\\site-packages\\pandapower\\test\\api\\test_file_io.py .F\n",
      "\n",
      "================================== FAILURES ===================================\n",
      "________________________________ test_excel[1] ________________________________\n",
      "\n",
      "net_in = This pandapower network includes the following parameter tables:\n",
      "   - bus (4 elements)\n",
      "   - load (2 elements)\n",
      "   - sge... (1 element)\n",
      "   - line (2 elements)\n",
      "   - trafo (1 element)\n",
      "   - line_geodata (2 elements)\n",
      "   - bus_geodata (2 elements)\n",
      "tmp_path = WindowsPath('C:/Users/Daniel.Gutierrez.Rojas@lut.fi/AppData/Local/Temp/pytest-of-h19174/pytest-0/test_excel_1_0')\n",
      "\n",
      "    def test_excel(net_in, tmp_path):\n",
      "        filename = os.path.abspath(str(tmp_path)) + \"testfile.xlsx\"\n",
      "        pp.to_excel(net_in, filename)\n",
      ">       net_out = pp.from_excel(filename)\n",
      "\n",
      "C:\\ProgramData\\Anaconda3\\lib\\site-packages\\pandapower\\test\\api\\test_file_io.py:46: \n",
      "_ _ _ _ _ _ _ _ _ _ _ _ _ _ _ _ _ _ _ _ _ _ _ _ _ _ _ _ _ _ _ _ _ _ _ _ _ _ _ _\n",
      "C:\\ProgramData\\Anaconda3\\lib\\site-packages\\pandapower\\file_io.py:181: in from_excel\n",
      "    xls = pd.read_excel(filename, sheet_name=None, index_col=0, engine=\"openpyxl\")\n",
      "C:\\ProgramData\\Anaconda3\\lib\\site-packages\\pandas\\util\\_decorators.py:188: in wrapper\n",
      "    return func(*args, **kwargs)\n",
      "C:\\ProgramData\\Anaconda3\\lib\\site-packages\\pandas\\util\\_decorators.py:188: in wrapper\n",
      "    return func(*args, **kwargs)\n",
      "C:\\ProgramData\\Anaconda3\\lib\\site-packages\\pandas\\io\\excel.py:350: in read_excel\n",
      "    io = ExcelFile(io, engine=engine)\n",
      "_ _ _ _ _ _ _ _ _ _ _ _ _ _ _ _ _ _ _ _ _ _ _ _ _ _ _ _ _ _ _ _ _ _ _ _ _ _ _ _\n",
      "\n",
      "self = <pandas.io.excel.ExcelFile object at 0x000002503D54C6A0>\n",
      "io = 'C:\\\\Users\\\\Daniel.Gutierrez.Rojas@lut.fi\\\\AppData\\\\Local\\\\Temp\\\\pytest-of-h19174\\\\pytest-0\\\\test_excel_1_0testfile.xlsx'\n",
      "engine = 'openpyxl'\n",
      "\n",
      "    def __init__(self, io, engine=None):\n",
      "        if engine is None:\n",
      "            engine = 'xlrd'\n",
      "        if engine not in self._engines:\n",
      ">           raise ValueError(\"Unknown engine: {engine}\".format(engine=engine))\n",
      "E           ValueError: Unknown engine: openpyxl\n",
      "\n",
      "C:\\ProgramData\\Anaconda3\\lib\\site-packages\\pandas\\io\\excel.py:646: ValueError\n",
      "============================== warnings summary ===============================\n",
      "ProgramData/Anaconda3/lib/site-packages/pandapower/test/api/test_convert_format.py::test_convert_format[1.2.0]\n",
      "ProgramData/Anaconda3/lib/site-packages/pandapower/test/api/test_convert_format.py::test_convert_format[1.2.2]\n",
      "ProgramData/Anaconda3/lib/site-packages/pandapower/test/api/test_convert_format.py::test_convert_format[1.3.0]\n",
      "ProgramData/Anaconda3/lib/site-packages/pandapower/test/api/test_convert_format.py::test_convert_format[1.3.1]\n",
      "ProgramData/Anaconda3/lib/site-packages/pandapower/test/api/test_convert_format.py::test_convert_format[1.4.0]\n",
      "ProgramData/Anaconda3/lib/site-packages/pandapower/test/api/test_convert_format.py::test_convert_format[1.4.1]\n",
      "ProgramData/Anaconda3/lib/site-packages/pandapower/test/api/test_convert_format.py::test_convert_format[1.4.2]\n",
      "ProgramData/Anaconda3/lib/site-packages/pandapower/test/api/test_convert_format.py::test_convert_format[1.4.3]\n",
      "ProgramData/Anaconda3/lib/site-packages/pandapower/test/api/test_convert_format.py::test_convert_format[1.5.0]\n",
      "ProgramData/Anaconda3/lib/site-packages/pandapower/test/api/test_convert_format.py::test_convert_format[1.5.1]\n",
      "ProgramData/Anaconda3/lib/site-packages/pandapower/test/api/test_convert_format.py::test_convert_format[1.6.0]\n",
      "ProgramData/Anaconda3/lib/site-packages/pandapower/test/api/test_convert_format.py::test_convert_format[1.6.1]\n",
      "ProgramData/Anaconda3/lib/site-packages/pandapower/test/api/test_convert_format.py::test_convert_format[2.0.0]\n",
      "ProgramData/Anaconda3/lib/site-packages/pandapower/test/api/test_convert_format.py::test_convert_format[2.0.1]\n",
      "  C:\\ProgramData\\Anaconda3\\lib\\site-packages\\pandapower\\file_io.py:281: DeprecationWarning:\n",
      "  \n",
      "  This net is saved in older format, which will not be supported in future.\n",
      "  Please resave your grid using the current pandapower version.\n",
      "\n",
      "ProgramData/Anaconda3/lib/site-packages/pandapower/test/api/test_convert_format.py::test_convert_format[1.2.0]\n",
      "  C:\\ProgramData\\Anaconda3\\lib\\site-packages\\numba\\typed\\typeddict.py:4: DeprecationWarning:\n",
      "  \n",
      "  Using or importing the ABCs from 'collections' instead of from 'collections.abc' is deprecated, and in 3.8 it will stop working\n",
      "\n",
      "ProgramData/Anaconda3/lib/site-packages/pandapower/test/api/test_convert_format.py::test_convert_format[1.2.0]\n",
      "ProgramData/Anaconda3/lib/site-packages/pandapower/test/api/test_convert_format.py::test_convert_format[1.2.0]\n",
      "ProgramData/Anaconda3/lib/site-packages/pandapower/test/api/test_convert_format.py::test_convert_format[1.2.0]\n",
      "ProgramData/Anaconda3/lib/site-packages/pandapower/test/api/test_convert_format.py::test_convert_format[1.2.0]\n",
      "ProgramData/Anaconda3/lib/site-packages/pandapower/test/api/test_convert_format.py::test_convert_format[1.2.0]\n",
      "ProgramData/Anaconda3/lib/site-packages/pandapower/test/api/test_convert_format.py::test_convert_format[1.2.0]\n",
      "ProgramData/Anaconda3/lib/site-packages/pandapower/test/api/test_convert_format.py::test_convert_format[1.2.0]\n",
      "ProgramData/Anaconda3/lib/site-packages/pandapower/test/api/test_convert_format.py::test_convert_format[1.2.2]\n",
      "ProgramData/Anaconda3/lib/site-packages/pandapower/test/api/test_convert_format.py::test_convert_format[1.2.2]\n",
      "ProgramData/Anaconda3/lib/site-packages/pandapower/test/api/test_convert_format.py::test_convert_format[1.2.2]\n",
      "ProgramData/Anaconda3/lib/site-packages/pandapower/test/api/test_convert_format.py::test_convert_format[1.2.2]\n",
      "ProgramData/Anaconda3/lib/site-packages/pandapower/test/api/test_convert_format.py::test_convert_format[1.2.2]\n",
      "ProgramData/Anaconda3/lib/site-packages/pandapower/test/api/test_convert_format.py::test_convert_format[1.2.2]\n",
      "ProgramData/Anaconda3/lib/site-packages/pandapower/test/api/test_convert_format.py::test_convert_format[1.2.2]\n",
      "ProgramData/Anaconda3/lib/site-packages/pandapower/test/api/test_convert_format.py::test_convert_format[1.3.0]\n",
      "ProgramData/Anaconda3/lib/site-packages/pandapower/test/api/test_convert_format.py::test_convert_format[1.3.0]\n",
      "ProgramData/Anaconda3/lib/site-packages/pandapower/test/api/test_convert_format.py::test_convert_format[1.3.0]\n",
      "ProgramData/Anaconda3/lib/site-packages/pandapower/test/api/test_convert_format.py::test_convert_format[1.3.0]\n",
      "ProgramData/Anaconda3/lib/site-packages/pandapower/test/api/test_convert_format.py::test_convert_format[1.3.0]\n",
      "ProgramData/Anaconda3/lib/site-packages/pandapower/test/api/test_convert_format.py::test_convert_format[1.3.0]\n",
      "ProgramData/Anaconda3/lib/site-packages/pandapower/test/api/test_convert_format.py::test_convert_format[1.3.0]\n",
      "ProgramData/Anaconda3/lib/site-packages/pandapower/test/api/test_convert_format.py::test_convert_format[1.3.1]\n",
      "ProgramData/Anaconda3/lib/site-packages/pandapower/test/api/test_convert_format.py::test_convert_format[1.3.1]\n",
      "ProgramData/Anaconda3/lib/site-packages/pandapower/test/api/test_convert_format.py::test_convert_format[1.3.1]\n",
      "ProgramData/Anaconda3/lib/site-packages/pandapower/test/api/test_convert_format.py::test_convert_format[1.3.1]\n",
      "ProgramData/Anaconda3/lib/site-packages/pandapower/test/api/test_convert_format.py::test_convert_format[1.3.1]\n",
      "ProgramData/Anaconda3/lib/site-packages/pandapower/test/api/test_convert_format.py::test_convert_format[1.3.1]\n",
      "ProgramData/Anaconda3/lib/site-packages/pandapower/test/api/test_convert_format.py::test_convert_format[1.3.1]\n",
      "ProgramData/Anaconda3/lib/site-packages/pandapower/test/api/test_convert_format.py::test_convert_format[1.4.0]\n",
      "ProgramData/Anaconda3/lib/site-packages/pandapower/test/api/test_convert_format.py::test_convert_format[1.4.0]\n",
      "ProgramData/Anaconda3/lib/site-packages/pandapower/test/api/test_convert_format.py::test_convert_format[1.4.0]\n",
      "ProgramData/Anaconda3/lib/site-packages/pandapower/test/api/test_convert_format.py::test_convert_format[1.4.0]\n",
      "ProgramData/Anaconda3/lib/site-packages/pandapower/test/api/test_convert_format.py::test_convert_format[1.4.0]\n",
      "ProgramData/Anaconda3/lib/site-packages/pandapower/test/api/test_convert_format.py::test_convert_format[1.4.0]\n",
      "ProgramData/Anaconda3/lib/site-packages/pandapower/test/api/test_convert_format.py::test_convert_format[1.4.0]\n",
      "ProgramData/Anaconda3/lib/site-packages/pandapower/test/api/test_convert_format.py::test_convert_format[1.4.1]\n",
      "ProgramData/Anaconda3/lib/site-packages/pandapower/test/api/test_convert_format.py::test_convert_format[1.4.1]\n",
      "ProgramData/Anaconda3/lib/site-packages/pandapower/test/api/test_convert_format.py::test_convert_format[1.4.1]\n",
      "ProgramData/Anaconda3/lib/site-packages/pandapower/test/api/test_convert_format.py::test_convert_format[1.4.1]\n",
      "ProgramData/Anaconda3/lib/site-packages/pandapower/test/api/test_convert_format.py::test_convert_format[1.4.1]\n",
      "ProgramData/Anaconda3/lib/site-packages/pandapower/test/api/test_convert_format.py::test_convert_format[1.4.1]\n",
      "ProgramData/Anaconda3/lib/site-packages/pandapower/test/api/test_convert_format.py::test_convert_format[1.4.1]\n",
      "ProgramData/Anaconda3/lib/site-packages/pandapower/test/api/test_convert_format.py::test_convert_format[1.4.2]\n",
      "ProgramData/Anaconda3/lib/site-packages/pandapower/test/api/test_convert_format.py::test_convert_format[1.4.2]\n",
      "ProgramData/Anaconda3/lib/site-packages/pandapower/test/api/test_convert_format.py::test_convert_format[1.4.2]\n",
      "ProgramData/Anaconda3/lib/site-packages/pandapower/test/api/test_convert_format.py::test_convert_format[1.4.2]\n",
      "ProgramData/Anaconda3/lib/site-packages/pandapower/test/api/test_convert_format.py::test_convert_format[1.4.2]\n",
      "ProgramData/Anaconda3/lib/site-packages/pandapower/test/api/test_convert_format.py::test_convert_format[1.4.2]\n",
      "ProgramData/Anaconda3/lib/site-packages/pandapower/test/api/test_convert_format.py::test_convert_format[1.4.2]\n",
      "ProgramData/Anaconda3/lib/site-packages/pandapower/test/api/test_convert_format.py::test_convert_format[1.4.3]\n",
      "ProgramData/Anaconda3/lib/site-packages/pandapower/test/api/test_convert_format.py::test_convert_format[1.4.3]\n",
      "ProgramData/Anaconda3/lib/site-packages/pandapower/test/api/test_convert_format.py::test_convert_format[1.4.3]\n",
      "ProgramData/Anaconda3/lib/site-packages/pandapower/test/api/test_convert_format.py::test_convert_format[1.4.3]\n",
      "ProgramData/Anaconda3/lib/site-packages/pandapower/test/api/test_convert_format.py::test_convert_format[1.4.3]\n",
      "ProgramData/Anaconda3/lib/site-packages/pandapower/test/api/test_convert_format.py::test_convert_format[1.4.3]\n",
      "ProgramData/Anaconda3/lib/site-packages/pandapower/test/api/test_convert_format.py::test_convert_format[1.4.3]\n",
      "ProgramData/Anaconda3/lib/site-packages/pandapower/test/api/test_convert_format.py::test_convert_format[1.5.0]\n",
      "ProgramData/Anaconda3/lib/site-packages/pandapower/test/api/test_convert_format.py::test_convert_format[1.5.0]\n",
      "ProgramData/Anaconda3/lib/site-packages/pandapower/test/api/test_convert_format.py::test_convert_format[1.5.0]\n",
      "ProgramData/Anaconda3/lib/site-packages/pandapower/test/api/test_convert_format.py::test_convert_format[1.5.0]\n",
      "ProgramData/Anaconda3/lib/site-packages/pandapower/test/api/test_convert_format.py::test_convert_format[1.5.0]\n",
      "ProgramData/Anaconda3/lib/site-packages/pandapower/test/api/test_convert_format.py::test_convert_format[1.5.0]\n",
      "ProgramData/Anaconda3/lib/site-packages/pandapower/test/api/test_convert_format.py::test_convert_format[1.5.0]\n",
      "ProgramData/Anaconda3/lib/site-packages/pandapower/test/api/test_convert_format.py::test_convert_format[1.5.1]\n",
      "ProgramData/Anaconda3/lib/site-packages/pandapower/test/api/test_convert_format.py::test_convert_format[1.5.1]\n",
      "ProgramData/Anaconda3/lib/site-packages/pandapower/test/api/test_convert_format.py::test_convert_format[1.5.1]\n",
      "ProgramData/Anaconda3/lib/site-packages/pandapower/test/api/test_convert_format.py::test_convert_format[1.5.1]\n",
      "ProgramData/Anaconda3/lib/site-packages/pandapower/test/api/test_convert_format.py::test_convert_format[1.5.1]\n",
      "ProgramData/Anaconda3/lib/site-packages/pandapower/test/api/test_convert_format.py::test_convert_format[1.5.1]\n",
      "ProgramData/Anaconda3/lib/site-packages/pandapower/test/api/test_convert_format.py::test_convert_format[1.5.1]\n",
      "ProgramData/Anaconda3/lib/site-packages/pandapower/test/api/test_convert_format.py::test_convert_format[1.6.0]\n",
      "ProgramData/Anaconda3/lib/site-packages/pandapower/test/api/test_convert_format.py::test_convert_format[1.6.0]\n",
      "ProgramData/Anaconda3/lib/site-packages/pandapower/test/api/test_convert_format.py::test_convert_format[1.6.0]\n",
      "ProgramData/Anaconda3/lib/site-packages/pandapower/test/api/test_convert_format.py::test_convert_format[1.6.0]\n",
      "ProgramData/Anaconda3/lib/site-packages/pandapower/test/api/test_convert_format.py::test_convert_format[1.6.0]\n",
      "ProgramData/Anaconda3/lib/site-packages/pandapower/test/api/test_convert_format.py::test_convert_format[1.6.0]\n",
      "ProgramData/Anaconda3/lib/site-packages/pandapower/test/api/test_convert_format.py::test_convert_format[1.6.0]\n",
      "ProgramData/Anaconda3/lib/site-packages/pandapower/test/api/test_convert_format.py::test_convert_format[1.6.1]\n",
      "ProgramData/Anaconda3/lib/site-packages/pandapower/test/api/test_convert_format.py::test_convert_format[1.6.1]\n",
      "ProgramData/Anaconda3/lib/site-packages/pandapower/test/api/test_convert_format.py::test_convert_format[1.6.1]\n",
      "ProgramData/Anaconda3/lib/site-packages/pandapower/test/api/test_convert_format.py::test_convert_format[1.6.1]\n",
      "ProgramData/Anaconda3/lib/site-packages/pandapower/test/api/test_convert_format.py::test_convert_format[1.6.1]\n",
      "ProgramData/Anaconda3/lib/site-packages/pandapower/test/api/test_convert_format.py::test_convert_format[1.6.1]\n",
      "ProgramData/Anaconda3/lib/site-packages/pandapower/test/api/test_convert_format.py::test_convert_format[1.6.1]\n",
      "ProgramData/Anaconda3/lib/site-packages/pandapower/test/api/test_convert_format.py::test_convert_format[2.0.0]\n",
      "ProgramData/Anaconda3/lib/site-packages/pandapower/test/api/test_convert_format.py::test_convert_format[2.0.0]\n",
      "ProgramData/Anaconda3/lib/site-packages/pandapower/test/api/test_convert_format.py::test_convert_format[2.0.0]\n",
      "ProgramData/Anaconda3/lib/site-packages/pandapower/test/api/test_convert_format.py::test_convert_format[2.0.0]\n",
      "ProgramData/Anaconda3/lib/site-packages/pandapower/test/api/test_convert_format.py::test_convert_format[2.0.0]\n",
      "ProgramData/Anaconda3/lib/site-packages/pandapower/test/api/test_convert_format.py::test_convert_format[2.0.0]\n",
      "ProgramData/Anaconda3/lib/site-packages/pandapower/test/api/test_convert_format.py::test_convert_format[2.0.0]\n",
      "ProgramData/Anaconda3/lib/site-packages/pandapower/test/api/test_convert_format.py::test_convert_format[2.0.1]\n",
      "ProgramData/Anaconda3/lib/site-packages/pandapower/test/api/test_convert_format.py::test_convert_format[2.0.1]\n",
      "ProgramData/Anaconda3/lib/site-packages/pandapower/test/api/test_convert_format.py::test_convert_format[2.0.1]\n",
      "ProgramData/Anaconda3/lib/site-packages/pandapower/test/api/test_convert_format.py::test_convert_format[2.0.1]\n",
      "ProgramData/Anaconda3/lib/site-packages/pandapower/test/api/test_convert_format.py::test_convert_format[2.0.1]\n",
      "ProgramData/Anaconda3/lib/site-packages/pandapower/test/api/test_convert_format.py::test_convert_format[2.0.1]\n",
      "ProgramData/Anaconda3/lib/site-packages/pandapower/test/api/test_convert_format.py::test_convert_format[2.0.1]\n",
      "ProgramData/Anaconda3/lib/site-packages/pandapower/test/api/test_convert_format.py::test_convert_format[2.1.0]\n",
      "ProgramData/Anaconda3/lib/site-packages/pandapower/test/api/test_convert_format.py::test_convert_format[2.1.0]\n"
     ]
    },
    {
     "name": "stdout",
     "output_type": "stream",
     "text": [
      "ProgramData/Anaconda3/lib/site-packages/pandapower/test/api/test_convert_format.py::test_convert_format[2.1.0]\n",
      "ProgramData/Anaconda3/lib/site-packages/pandapower/test/api/test_convert_format.py::test_convert_format[2.1.0]\n",
      "ProgramData/Anaconda3/lib/site-packages/pandapower/test/api/test_convert_format.py::test_convert_format[2.1.0]\n",
      "ProgramData/Anaconda3/lib/site-packages/pandapower/test/api/test_convert_format.py::test_convert_format[2.1.0]\n",
      "ProgramData/Anaconda3/lib/site-packages/pandapower/test/api/test_convert_format.py::test_convert_format[2.1.0]\n",
      "ProgramData/Anaconda3/lib/site-packages/pandapower/test/api/test_convert_format.py::test_convert_format[2.1.0]\n",
      "ProgramData/Anaconda3/lib/site-packages/pandapower/test/api/test_convert_format.py::test_convert_format[2.1.0]\n",
      "ProgramData/Anaconda3/lib/site-packages/pandapower/test/api/test_convert_format.py::test_convert_format[2.1.0]\n",
      "ProgramData/Anaconda3/lib/site-packages/pandapower/test/api/test_convert_format.py::test_convert_format[2.1.0]\n",
      "ProgramData/Anaconda3/lib/site-packages/pandapower/test/api/test_convert_format.py::test_convert_format[2.1.0]\n",
      "ProgramData/Anaconda3/lib/site-packages/pandapower/test/api/test_convert_format.py::test_convert_format[2.1.0]\n",
      "ProgramData/Anaconda3/lib/site-packages/pandapower/test/api/test_convert_format.py::test_convert_format[2.1.0]\n",
      "ProgramData/Anaconda3/lib/site-packages/pandapower/test/api/test_convert_format.py::test_convert_format[2.1.0]\n",
      "ProgramData/Anaconda3/lib/site-packages/pandapower/test/api/test_convert_format.py::test_convert_format[2.1.0]\n",
      "ProgramData/Anaconda3/lib/site-packages/pandapower/test/api/test_convert_format.py::test_convert_format[2.1.0]\n",
      "ProgramData/Anaconda3/lib/site-packages/pandapower/test/api/test_convert_format.py::test_convert_format[2.1.0]\n",
      "ProgramData/Anaconda3/lib/site-packages/pandapower/test/api/test_convert_format.py::test_convert_format[2.1.0]\n",
      "ProgramData/Anaconda3/lib/site-packages/pandapower/test/api/test_convert_format.py::test_convert_format[2.1.0]\n",
      "ProgramData/Anaconda3/lib/site-packages/pandapower/test/api/test_convert_format.py::test_convert_format[2.1.0]\n",
      "ProgramData/Anaconda3/lib/site-packages/pandapower/test/api/test_convert_format.py::test_convert_format[2.1.0]\n",
      "ProgramData/Anaconda3/lib/site-packages/pandapower/test/api/test_convert_format.py::test_convert_format[2.1.0]\n",
      "ProgramData/Anaconda3/lib/site-packages/pandapower/test/api/test_convert_format.py::test_convert_format[2.1.0]\n",
      "ProgramData/Anaconda3/lib/site-packages/pandapower/test/api/test_convert_format.py::test_convert_format[2.1.0]\n",
      "ProgramData/Anaconda3/lib/site-packages/pandapower/test/api/test_convert_format.py::test_convert_format[2.1.0]\n",
      "ProgramData/Anaconda3/lib/site-packages/pandapower/test/api/test_convert_format.py::test_convert_format[2.1.0]\n",
      "ProgramData/Anaconda3/lib/site-packages/pandapower/test/api/test_convert_format.py::test_convert_format[2.1.0]\n",
      "ProgramData/Anaconda3/lib/site-packages/pandapower/test/api/test_convert_format.py::test_convert_format[2.2.0]\n",
      "ProgramData/Anaconda3/lib/site-packages/pandapower/test/api/test_convert_format.py::test_convert_format[2.2.0]\n",
      "ProgramData/Anaconda3/lib/site-packages/pandapower/test/api/test_convert_format.py::test_convert_format[2.2.0]\n",
      "ProgramData/Anaconda3/lib/site-packages/pandapower/test/api/test_convert_format.py::test_convert_format[2.2.0]\n",
      "ProgramData/Anaconda3/lib/site-packages/pandapower/test/api/test_convert_format.py::test_convert_format[2.2.0]\n",
      "ProgramData/Anaconda3/lib/site-packages/pandapower/test/api/test_convert_format.py::test_convert_format[2.2.0]\n",
      "ProgramData/Anaconda3/lib/site-packages/pandapower/test/api/test_convert_format.py::test_convert_format[2.2.0]\n",
      "ProgramData/Anaconda3/lib/site-packages/pandapower/test/api/test_convert_format.py::test_convert_format[2.3.0]\n",
      "ProgramData/Anaconda3/lib/site-packages/pandapower/test/api/test_convert_format.py::test_convert_format[2.3.0]\n",
      "ProgramData/Anaconda3/lib/site-packages/pandapower/test/api/test_convert_format.py::test_convert_format[2.3.0]\n",
      "ProgramData/Anaconda3/lib/site-packages/pandapower/test/api/test_convert_format.py::test_convert_format[2.3.0]\n",
      "ProgramData/Anaconda3/lib/site-packages/pandapower/test/api/test_convert_format.py::test_convert_format[2.3.0]\n",
      "ProgramData/Anaconda3/lib/site-packages/pandapower/test/api/test_convert_format.py::test_convert_format[2.3.0]\n",
      "ProgramData/Anaconda3/lib/site-packages/pandapower/test/api/test_convert_format.py::test_convert_format[2.3.0]\n",
      "ProgramData/Anaconda3/lib/site-packages/pandapower/test/api/test_convert_format.py::test_convert_format[2.4.0]\n",
      "ProgramData/Anaconda3/lib/site-packages/pandapower/test/api/test_convert_format.py::test_convert_format[2.4.0]\n",
      "ProgramData/Anaconda3/lib/site-packages/pandapower/test/api/test_convert_format.py::test_convert_format[2.4.0]\n",
      "ProgramData/Anaconda3/lib/site-packages/pandapower/test/api/test_convert_format.py::test_convert_format[2.4.0]\n",
      "ProgramData/Anaconda3/lib/site-packages/pandapower/test/api/test_convert_format.py::test_convert_format[2.4.0]\n",
      "ProgramData/Anaconda3/lib/site-packages/pandapower/test/api/test_convert_format.py::test_convert_format[2.4.0]\n",
      "ProgramData/Anaconda3/lib/site-packages/pandapower/test/api/test_convert_format.py::test_convert_format[2.4.0]\n",
      "  C:\\ProgramData\\Anaconda3\\lib\\site-packages\\numpy\\matrixlib\\defmatrix.py:71: PendingDeprecationWarning:\n",
      "  \n",
      "  the matrix subclass is not the recommended way to represent matrices or deal with linear algebra (see https://docs.scipy.org/doc/numpy/user/numpy-for-matlab-users.html). Please adjust your code to use regular ndarray.\n",
      "\n",
      "C:\\ProgramData\\Anaconda3\\lib\\site-packages\\_pytest\\cacheprovider.py:126\n",
      "  C:\\ProgramData\\Anaconda3\\lib\\site-packages\\_pytest\\cacheprovider.py:126: PytestWarning:\n",
      "  \n",
      "  could not create cache path C:\\.pytest_cache\\v\\cache\\stepwise\n",
      "\n",
      "C:\\ProgramData\\Anaconda3\\lib\\site-packages\\_pytest\\cacheprovider.py:126\n",
      "  C:\\ProgramData\\Anaconda3\\lib\\site-packages\\_pytest\\cacheprovider.py:126: PytestWarning:\n",
      "  \n",
      "  could not create cache path C:\\.pytest_cache\\v\\cache\\nodeids\n",
      "\n",
      "C:\\ProgramData\\Anaconda3\\lib\\site-packages\\_pytest\\cacheprovider.py:126\n",
      "  C:\\ProgramData\\Anaconda3\\lib\\site-packages\\_pytest\\cacheprovider.py:126: PytestWarning:\n",
      "  \n",
      "  could not create cache path C:\\.pytest_cache\\v\\cache\\lastfailed\n",
      "\n",
      "-- Docs: https://docs.pytest.org/en/latest/warnings.html\n",
      "============= 1 failed, 73 passed, 165 warnings in 28.02 seconds ==============\n"
     ]
    }
   ],
   "source": [
    " import pandapower.test\n",
    " pandapower.test.run_all_tests()"
   ]
  },
  {
   "cell_type": "code",
   "execution_count": 12,
   "metadata": {},
   "outputs": [],
   "source": [
    "net = pn.create_cigre_network_lv()"
   ]
  },
  {
   "cell_type": "code",
   "execution_count": 3,
   "metadata": {},
   "outputs": [
    {
     "ename": "NameError",
     "evalue": "name 'pandapower' is not defined",
     "output_type": "error",
     "traceback": [
      "\u001b[1;31m---------------------------------------------------------------------------\u001b[0m",
      "\u001b[1;31mNameError\u001b[0m                                 Traceback (most recent call last)",
      "\u001b[1;32m<ipython-input-3-21eea2b40dcc>\u001b[0m in \u001b[0;36m<module>\u001b[1;34m\u001b[0m\n\u001b[1;32m----> 1\u001b[1;33m \u001b[0mpandapower\u001b[0m\u001b[1;33m.\u001b[0m\u001b[0mplotting\u001b[0m\u001b[1;33m.\u001b[0m\u001b[0mplotly\u001b[0m\u001b[1;33m.\u001b[0m\u001b[0msimple_plotly\u001b[0m\u001b[1;33m(\u001b[0m\u001b[0mnet\u001b[0m\u001b[1;33m,\u001b[0m \u001b[0mrespect_switches\u001b[0m\u001b[1;33m=\u001b[0m\u001b[1;32mTrue\u001b[0m\u001b[1;33m,\u001b[0m \u001b[0muse_line_geodata\u001b[0m\u001b[1;33m=\u001b[0m\u001b[1;32mNone\u001b[0m\u001b[1;33m,\u001b[0m \u001b[0mon_map\u001b[0m\u001b[1;33m=\u001b[0m\u001b[1;32mFalse\u001b[0m\u001b[1;33m,\u001b[0m \u001b[0mprojection\u001b[0m\u001b[1;33m=\u001b[0m\u001b[1;32mNone\u001b[0m\u001b[1;33m,\u001b[0m \u001b[0mmap_style\u001b[0m\u001b[1;33m=\u001b[0m\u001b[1;34m'basic'\u001b[0m\u001b[1;33m,\u001b[0m \u001b[0mfigsize\u001b[0m\u001b[1;33m=\u001b[0m\u001b[1;36m1\u001b[0m\u001b[1;33m,\u001b[0m \u001b[0maspectratio\u001b[0m\u001b[1;33m=\u001b[0m\u001b[1;34m'auto'\u001b[0m\u001b[1;33m,\u001b[0m \u001b[0mline_width\u001b[0m\u001b[1;33m=\u001b[0m\u001b[1;36m1\u001b[0m\u001b[1;33m,\u001b[0m \u001b[0mbus_size\u001b[0m\u001b[1;33m=\u001b[0m\u001b[1;36m10\u001b[0m\u001b[1;33m,\u001b[0m \u001b[0mext_grid_size\u001b[0m\u001b[1;33m=\u001b[0m\u001b[1;36m20.0\u001b[0m\u001b[1;33m,\u001b[0m \u001b[0mbus_color\u001b[0m\u001b[1;33m=\u001b[0m\u001b[1;34m'blue'\u001b[0m\u001b[1;33m,\u001b[0m \u001b[0mline_color\u001b[0m\u001b[1;33m=\u001b[0m\u001b[1;34m'grey'\u001b[0m\u001b[1;33m,\u001b[0m \u001b[0mtrafo_color\u001b[0m\u001b[1;33m=\u001b[0m\u001b[1;34m'green'\u001b[0m\u001b[1;33m,\u001b[0m \u001b[0mext_grid_color\u001b[0m\u001b[1;33m=\u001b[0m\u001b[1;34m'yellow'\u001b[0m\u001b[1;33m)\u001b[0m\u001b[1;33m\u001b[0m\u001b[1;33m\u001b[0m\u001b[0m\n\u001b[0m",
      "\u001b[1;31mNameError\u001b[0m: name 'pandapower' is not defined"
     ]
    }
   ],
   "source": [
    "pandapower.plotting.plotly.simple_plotly(net, respect_switches=True, use_line_geodata=None, on_map=False, projection=None, map_style='basic', figsize=1, aspectratio='auto', line_width=1, bus_size=10, ext_grid_size=20.0, bus_color='blue', line_color='grey', trafo_color='green', ext_grid_color='yellow')"
   ]
  },
  {
   "cell_type": "code",
   "execution_count": null,
   "metadata": {},
   "outputs": [],
   "source": []
  },
  {
   "cell_type": "code",
   "execution_count": null,
   "metadata": {},
   "outputs": [],
   "source": []
  },
  {
   "cell_type": "code",
   "execution_count": null,
   "metadata": {},
   "outputs": [],
   "source": []
  },
  {
   "cell_type": "markdown",
   "metadata": {},
   "source": [
    "#### Objective function"
   ]
  },
  {
   "cell_type": "code",
   "execution_count": 3,
   "metadata": {},
   "outputs": [],
   "source": [
    "import random\n",
    "import math\n",
    "import matplotlib.pyplot as plt\n",
    "#------------------------------------------------------------------------------\n",
    "# TO CUSTOMIZE THIS PSO CODE TO SOLVE UNCONSTRAINED OPTIMIZATION PROBLEMS, CHANGE THE PARAMETERS IN THIS SECTION ONLY:\n",
    "# THE FOLLOWING PARAMETERS MUST BE CHANGED.\n",
    "def objective_function(x):\n",
    "    y = ((13.5*x[0])/((10/x[1])-1)) + ((13.5*x[0])/((3.33/x[1])-1)) + ((0.14*x[2])/(((3.33/x[3])**0.02)-1))  \n",
    "    +((0.14*x[4])/(((3.33/x[5])**0.02)-1)) + ((13.5*x[6])/((10/x[7])-1)) + ((13.5*x[6])/((10/x[7])-1))\n",
    "        \n",
    "    return y\n",
    "\n"
   ]
  },
  {
   "cell_type": "code",
   "execution_count": 4,
   "metadata": {},
   "outputs": [
    {
     "data": {
      "text/plain": [
       "0.084375"
      ]
     },
     "execution_count": 4,
     "metadata": {},
     "output_type": "execute_result"
    }
   ],
   "source": [
    "(13.5*0.025/((10/2)-1))"
   ]
  },
  {
   "cell_type": "markdown",
   "metadata": {},
   "source": [
    "#### Reestrictions"
   ]
  },
  {
   "cell_type": "code",
   "execution_count": 5,
   "metadata": {},
   "outputs": [],
   "source": [
    "TMS_min = 0.025                             #  min time multiplier setting\n",
    "TMS_max = 1.2                               #  max time multiplier setting\n",
    "CT  = 300                                   #  300:1 CT ratio\n",
    "L1 = 1.2*500/CT                             #  1.2 * maximum load current\n",
    "U1 = (2*1000)/(3*CT)                                #  2/3 * minimum fault current\n",
    "bounds=[(TMS_min,TMS_max),(L1,U1),#  upper and lower bounds of variables\n",
    "        (TMS_min,TMS_max),(L1,U1),\n",
    "        (TMS_min,TMS_max),(L1,U1),\n",
    "        (TMS_min,TMS_max),(L1,U1)] #  TMS,PS,TMS,PS\n",
    "nv = 8                               #  number of variables\n",
    "mm = -1                              #  if minimization problem, mm = -1; if maximization problem, mm = 1"
   ]
  },
  {
   "cell_type": "code",
   "execution_count": 6,
   "metadata": {},
   "outputs": [
    {
     "data": {
      "text/plain": [
       "-0.003659727954234304"
      ]
     },
     "execution_count": 6,
     "metadata": {},
     "output_type": "execute_result"
    }
   ],
   "source": [
    "(3.33/4)**0.02 -1 "
   ]
  },
  {
   "cell_type": "code",
   "execution_count": 7,
   "metadata": {},
   "outputs": [
    {
     "data": {
      "text/plain": [
       "2.2222222222222223"
      ]
     },
     "execution_count": 7,
     "metadata": {},
     "output_type": "execute_result"
    }
   ],
   "source": [
    "(2*1000)/(3*CT) "
   ]
  },
  {
   "cell_type": "code",
   "execution_count": 8,
   "metadata": {},
   "outputs": [
    {
     "data": {
      "text/plain": [
       "2.0"
      ]
     },
     "execution_count": 8,
     "metadata": {},
     "output_type": "execute_result"
    }
   ],
   "source": [
    "1.2*500/CT"
   ]
  },
  {
   "cell_type": "markdown",
   "metadata": {},
   "source": [
    "#### PSO parameters"
   ]
  },
  {
   "cell_type": "code",
   "execution_count": 9,
   "metadata": {},
   "outputs": [],
   "source": [
    "# THE FOLLOWING PARAMETERS ARE OPTIMAL.\n",
    "particle_size = 100        # number of particles\n",
    "iterations = 200           # max number of iterations\n",
    "w = 0.85                    # inertia constant\n",
    "c1 = 1                    # cognative constant\n",
    "c2 = 2                     # social constant"
   ]
  },
  {
   "cell_type": "code",
   "execution_count": null,
   "metadata": {},
   "outputs": [],
   "source": []
  },
  {
   "cell_type": "markdown",
   "metadata": {},
   "source": [
    "#### Swarm cycle"
   ]
  },
  {
   "cell_type": "code",
   "execution_count": null,
   "metadata": {},
   "outputs": [],
   "source": []
  },
  {
   "cell_type": "code",
   "execution_count": 10,
   "metadata": {},
   "outputs": [],
   "source": [
    "#------------------------------------------------------------------------------    \n",
    "class Particle:\n",
    "    def __init__(self,bounds):\n",
    "        self.particle_position=[]                     # particle position\n",
    "        self.particle_velocity=[]                     # particle velocity\n",
    "        self.local_best_particle_position=[]          # best position of the particle\n",
    "        self.fitness_local_best_particle_position= initial_fitness  # initial objective function value of the best particle position\n",
    "        self.fitness_particle_position=initial_fitness             # objective function value of the particle position\n",
    " \n",
    "        for i in range(nv):\n",
    "            self.particle_position.append(random.uniform(bounds[i][0],bounds[i][1])) # generate random initial position\n",
    "            \n",
    "            \n",
    "            # Check here the reestrictions\n",
    "                      \n",
    "            self.particle_velocity.append(random.uniform(-1,1)) # generate random initial velocity\n",
    "            \n",
    "        # Coordination criteria and operating time constraints    \n",
    "            \n",
    "        R1 = ((13.5*self.particle_position[0])/((10/self.particle_position[1])-1))\n",
    "        R2 = ((0.14*self.particle_position[2])/(((3.33/self.particle_position[3])**0.02)-1))\n",
    "        R3 = ((0.14*self.particle_position[4])/(((3.33/self.particle_position[5])**0.02)-1))\n",
    "        R4 = ((13.5*self.particle_position[6])/((10/self.particle_position[7])-1))\n",
    "\n",
    "        \n",
    "        while R4-R2<0.3 and R4>=0.1 and R2>=0.1:      #1 pair of principl-backup relays\n",
    "            self.particle_position[6] = random.uniform(bounds[6][0],bounds[6][1])\n",
    "            self.particle_position[7] = random.uniform(bounds[7][0],bounds[7][1])\n",
    "            self.particle_position[2] = random.uniform(bounds[2][0],bounds[2][1])\n",
    "            self.particle_position[3] = random.uniform(bounds[3][0],bounds[3][1])\n",
    "            R2 = ((0.14*self.particle_position[2])/(((3.33/self.particle_position[3])**0.02)-1))\n",
    "            R4 = ((13.5*self.particle_position[6])/((10/self.particle_position[7])-1))\n",
    "            \n",
    "        while R1-R3<0.3 and R1>=0.1 and R3>=0.1:      #1 pair of principl-backup relays\n",
    "            self.particle_position[0] = random.uniform(bounds[0][0],bounds[0][1])\n",
    "            self.particle_position[1] = random.uniform(bounds[1][0],bounds[1][1])\n",
    "            self.particle_position[4] = random.uniform(bounds[4][0],bounds[4][1])\n",
    "            self.particle_position[5] = random.uniform(bounds[5][0],bounds[5][1])\n",
    "            R3 = ((0.14*self.particle_position[4])/(((3.33/self.particle_position[5])**0.02)-1))\n",
    "            R1 = ((13.5*self.particle_position[0])/((10/self.particle_position[1])-1))\n",
    "            \n",
    " \n",
    "    def evaluate(self,objective_function):\n",
    "        self.fitness_particle_position=objective_function(self.particle_position)\n",
    "        if mm == -1:\n",
    "            if self.fitness_particle_position < self.fitness_local_best_particle_position:\n",
    "                self.local_best_particle_position=self.particle_position                  # update the local best\n",
    "                self.fitness_local_best_particle_position=self.fitness_particle_position  # update the fitness of the local best\n",
    "        if mm == 1:\n",
    "            if self.fitness_particle_position > self.fitness_local_best_particle_position:\n",
    "                self.local_best_particle_position=self.particle_position                  # update the local best\n",
    "                self.fitness_local_best_particle_position=self.fitness_particle_position  # update the fitness of the local best\n",
    " \n",
    "    def update_velocity(self,global_best_particle_position):\n",
    "        for i in range(nv):\n",
    "            r1=random.random()\n",
    "            r2=random.random()\n",
    " \n",
    "            cognitive_velocity = c1*r1*(self.local_best_particle_position[i] - self.particle_position[i])\n",
    "            social_velocity = c2*r2*(global_best_particle_position[i] - self.particle_position[i])\n",
    "            self.particle_velocity[i] = w*self.particle_velocity[i]+ cognitive_velocity + social_velocity\n",
    " \n",
    "    def update_position(self,bounds):\n",
    "        for i in range(nv):\n",
    "            self.particle_position[i]=self.particle_position[i]+self.particle_velocity[i]\n",
    " \n",
    "            # check and repair to satisfy the upper bounds\n",
    "            if self.particle_position[i]>bounds[i][1]:\n",
    "                self.particle_position[i]=bounds[i][1]\n",
    "            # check and repair to satisfy the lower bounds\n",
    "            if self.particle_position[i] < bounds[i][0]:\n",
    "                self.particle_position[i]=bounds[i][0]"
   ]
  },
  {
   "cell_type": "code",
   "execution_count": 11,
   "metadata": {},
   "outputs": [],
   "source": [
    "class PSO():\n",
    "    def __init__(self,objective_function,bounds,particle_size,iterations):\n",
    " \n",
    "        fitness_global_best_particle_position=initial_fitness\n",
    "        global_best_particle_position=[]\n",
    " \n",
    "        swarm_particle=[]\n",
    "        for i in range(particle_size):\n",
    "            swarm_particle.append(Particle(bounds))\n",
    "        A=[]\n",
    "                \n",
    " \n",
    "        for i in range(iterations):\n",
    "            for j in range(particle_size):\n",
    "                swarm_particle[j].evaluate(objective_function)\n",
    "    \n",
    "\n",
    "                if mm ==-1:\n",
    "                    if swarm_particle[j].fitness_particle_position < fitness_global_best_particle_position:\n",
    "                        global_best_particle_position = list(swarm_particle[j].particle_position)\n",
    "                        fitness_global_best_particle_position = float(swarm_particle[j].fitness_particle_position)\n",
    "                if mm ==1:\n",
    "                    if swarm_particle[j].fitness_particle_position > fitness_global_best_particle_position:\n",
    "                        global_best_particle_position = list(swarm_particle[j].particle_position)\n",
    "                        fitness_global_best_particle_position = float(swarm_particle[j].fitness_particle_position)\n",
    "            for j in range(particle_size):\n",
    "                swarm_particle[j].update_velocity(global_best_particle_position)\n",
    "                swarm_particle[j].update_position(bounds)\n",
    " \n",
    "            A.append(fitness_global_best_particle_position) # record the best fitness\n",
    "        #print(swarm_particle)\n",
    "        print('Optimal solution:', global_best_particle_position)\n",
    "        print('Objective function value:', fitness_global_best_particle_position)\n",
    "        print('Evolutionary process of the objective function value:')\n",
    "        plt.plot(A)\n",
    "#------------------------------------------------------------------------------\n",
    "if mm == -1:\n",
    "    initial_fitness = float(\"inf\") # for minimization problem\n",
    "if mm == 1:\n",
    "    initial_fitness = -float(\"inf\") # for maximization problem\n",
    "#------------------------------------------------------------------------------   "
   ]
  },
  {
   "cell_type": "markdown",
   "metadata": {},
   "source": [
    "## Test main PSO   "
   ]
  },
  {
   "cell_type": "code",
   "execution_count": 12,
   "metadata": {},
   "outputs": [
    {
     "name": "stdout",
     "output_type": "stream",
     "text": [
      "Optimal solution: [0.025, 2.0, 0.025, 2.0, 1.085242389421148, 2.2208102902681865, 0.6870343899134712, 2.0128470132578213]\n",
      "Objective function value: 0.93340172635625\n",
      "Evolutionary process of the objective function value:\n"
     ]
    },
    {
     "data": {
      "text/plain": [
       "<__main__.PSO at 0x1ab59d7a588>"
      ]
     },
     "execution_count": 12,
     "metadata": {},
     "output_type": "execute_result"
    },
    {
     "data": {
      "image/png": "[encoded data removed]",
      "text/plain": [
       "<Figure size 432x288 with 1 Axes>"
      ]
     },
     "metadata": {
      "needs_background": "light"
     },
     "output_type": "display_data"
    }
   ],
   "source": [
    "PSO(objective_function,bounds,particle_size,iterations)"
   ]
  },
  {
   "cell_type": "code",
   "execution_count": 13,
   "metadata": {},
   "outputs": [
    {
     "name": "stdout",
     "output_type": "stream",
     "text": [
      "Optimal solution: [0.025, 2.0, 0.025, 2.0, 1.2, 2.2222222222222223, 0.1485742279663982, 2.0]\n",
      "Objective function value: 0.93340172635625\n",
      "Evolutionary process of the objective function value:\n"
     ]
    },
    {
     "data": {
      "text/plain": [
       "<__main__.PSO at 0x1ab5986aac8>"
      ]
     },
     "execution_count": 13,
     "metadata": {},
     "output_type": "execute_result"
    },
    {
     "data": {
      "image/png": "[encoded data removed]",
      "text/plain": [
       "<Figure size 432x288 with 1 Axes>"
      ]
     },
     "metadata": {
      "needs_background": "light"
     },
     "output_type": "display_data"
    }
   ],
   "source": [
    "PSO(objective_function,bounds,500,300)"
   ]
  },
  {
   "cell_type": "code",
   "execution_count": null,
   "metadata": {},
   "outputs": [],
   "source": []
  }
 ],
 "metadata": {
  "kernelspec": {
   "display_name": "Python 3",
   "language": "python",
   "name": "python3"
  },
  "language_info": {
   "codemirror_mode": {
    "name": "ipython",
    "version": 3
   },
   "file_extension": ".py",
   "mimetype": "text/x-python",
   "name": "python",
   "nbconvert_exporter": "python",
   "pygments_lexer": "ipython3",
   "version": "3.7.3"
  }
 },
 "nbformat": 4,
 "nbformat_minor": 2
}
